{
 "cells": [
  {
   "cell_type": "code",
   "execution_count": 3,
   "id": "b07f07bf",
   "metadata": {},
   "outputs": [
    {
     "name": "stdout",
     "output_type": "stream",
     "text": [
      "The sum of 4 and 7 is 11\n",
      "The sum of 4 , 7 and 9 is 20\n"
     ]
    }
   ],
   "source": [
    "def sum(a,b):\n",
    "    s = a + b\n",
    "    print(\"The sum of\", a, \"and\", b, \"is\", s)\n",
    "sum(4, 7)\n",
    "    \n",
    "def sum(a, b, c):\n",
    "    s = a + b + c\n",
    "    print(\"The sum of\", a, \",\", b, \"and\", c, \"is\", s)\n",
    "    \n",
    "sum(4, 7, 9)\n",
    "    \n"
   ]
  },
  {
   "cell_type": "code",
   "execution_count": 5,
   "id": "0c98ba28",
   "metadata": {},
   "outputs": [
    {
     "name": "stdout",
     "output_type": "stream",
     "text": [
      "The sum of 4.5 and 5.5 is 10.0\n",
      "The sum of 1 , 7 and 11 is 19\n"
     ]
    }
   ],
   "source": [
    "from multipledispatch import dispatch\n",
    "@dispatch(int, int, int)\n",
    "def sum(a, b, c):\n",
    "    result = a + b + c\n",
    "    print(\"The sum of\", a, \",\", b, \"and\", c, \"is\", result)\n",
    "    \n",
    "\n",
    "    \n",
    "@dispatch(float, float)\n",
    "def sum(w, x):\n",
    "    result = w + x\n",
    "    print(\"The sum of\", w, \"and\", x, \"is\", result)\n",
    "    \n",
    "sum(4.5, 5.5)\n",
    "sum(1, 7, 11)\n",
    "   "
   ]
  }
 ],
 "metadata": {
  "kernelspec": {
   "display_name": "base",
   "language": "python",
   "name": "python3"
  },
  "language_info": {
   "codemirror_mode": {
    "name": "ipython",
    "version": 3
   },
   "file_extension": ".py",
   "mimetype": "text/x-python",
   "name": "python",
   "nbconvert_exporter": "python",
   "pygments_lexer": "ipython3",
   "version": "3.12.7"
  }
 },
 "nbformat": 4,
 "nbformat_minor": 5
}
