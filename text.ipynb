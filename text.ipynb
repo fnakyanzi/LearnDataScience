{
 "cells": [
  {
   "cell_type": "code",
   "execution_count": 3,
   "id": "4cafc99c",
   "metadata": {},
   "outputs": [],
   "source": [
    "with open(\"mytext.txt\", \"w\") as file:\n",
    "    file.write(\"hey there\\n\")\n",
    "    file.write(\"Steph Curry is the basketball GOAT of all time\\n\")\n",
    "    "
   ]
  },
  {
   "cell_type": "code",
   "execution_count": 4,
   "id": "c38d9fd6",
   "metadata": {},
   "outputs": [
    {
     "name": "stdout",
     "output_type": "stream",
     "text": [
      "hey there\n",
      "Steph Curry is the basketball GOAT of all time\n",
      "I know Steph Curry\n",
      "I love basketball\n",
      "I support the Golden State Warriors\n",
      "\n"
     ]
    }
   ],
   "source": [
    "#appending the file\n",
    "with open(\"mytext.txt\", \"a\") as file:\n",
    "    file.write(\"I know Steph Curry\\n\")\n",
    "    file.write(\"I love basketball\\n\")\n",
    "    file.write(\"I support the Golden State Warriors\\n\")\n",
    "    \n",
    "#reading from the appended file\n",
    "file = open(\"mytext.txt\", \"r\")\n",
    "content = file.read()\n",
    "print(content)\n",
    "file.close()"
   ]
  }
 ],
 "metadata": {
  "kernelspec": {
   "display_name": "base",
   "language": "python",
   "name": "python3"
  },
  "language_info": {
   "codemirror_mode": {
    "name": "ipython",
    "version": 3
   },
   "file_extension": ".py",
   "mimetype": "text/x-python",
   "name": "python",
   "nbconvert_exporter": "python",
   "pygments_lexer": "ipython3",
   "version": "3.12.7"
  }
 },
 "nbformat": 4,
 "nbformat_minor": 5
}
